{
 "cells": [
  {
   "cell_type": "code",
   "execution_count": 2,
   "id": "46971c8e",
   "metadata": {},
   "outputs": [
    {
     "name": "stdout",
     "output_type": "stream",
     "text": [
      "Diem O\n",
      "Không có điểm trên E với x = 0\n",
      "Không có điểm trên E với x = 1\n",
      "Điểm trên E với x = 2:\n",
      "(2,4)\n",
      "(2,7)\n",
      "Điểm trên E với x = 3:\n",
      "(3,5)\n",
      "(3,6)\n",
      "Không có điểm trên E với x = 4\n",
      "Điểm trên E với x = 5:\n",
      "(5,2)\n",
      "(5,9)\n",
      "Không có điểm trên E với x = 6\n",
      "Điểm trên E với x = 7:\n",
      "(7,2)\n",
      "(7,9)\n",
      "Điểm trên E với x = 8:\n",
      "(8,3)\n",
      "(8,8)\n",
      "Không có điểm trên E với x = 9\n",
      "Điểm trên E với x = 10:\n",
      "(10,2)\n",
      "(10,9)\n"
     ]
    }
   ],
   "source": [
    "import tkinter as tk\n",
    "from tkinter import messagebox\n",
    "\n",
    "def is_quadratic_residue(z, p):\n",
    "    return pow(z, (p - 1) // 2, p) == 1\n",
    "\n",
    "def find_square_roots(z, p):\n",
    "    roots = []\n",
    "    for i in range(1, p):\n",
    "        if (i * i) % p == z:\n",
    "            roots.append(i)\n",
    "    return roots\n",
    "\n",
    "def calculate_elliptic_curve_points():\n",
    "    try:\n",
    "        p = int(entry_p.get())\n",
    "        result_text.delete(1.0, tk.END)\n",
    "\n",
    "        for x in range(p):\n",
    "            z = (x ** 3 + x + 6) % p\n",
    "            if is_quadratic_residue(z, p):\n",
    "                result_text.insert(tk.END, f\"Điểm trên E với x = {x}:\\n\")\n",
    "                y_roots = find_square_roots(z, p)\n",
    "                for y in y_roots:\n",
    "                    result_text.insert(tk.END, f\"({x}, {y})\\n\")\n",
    "            else:\n",
    "                result_text.insert(tk.END, f\"Không có điểm trên E với x = {x}\\n\")\n",
    "    except ValueError:\n",
    "        messagebox.showerror(\"Error\", \"Vui lòng nhập giá trị số hợp lệ.\")\n",
    "\n",
    "# Create main window\n",
    "root = tk.Tk()\n",
    "root.title(\"Elliptic Curve Points Checker\")\n",
    "\n",
    "# Create and place labels, entries, and button\n",
    "label_p = tk.Label(root, text=\"Nhập giá trị p:\")\n",
    "label_p.grid(row=0, column=0, padx=10, pady=5)\n",
    "entry_p = tk.Entry(root)\n",
    "entry_p.grid(row=0, column=1, padx=10, pady=5)\n",
    "\n",
    "calculate_button = tk.Button(root, text=\"Tìm Điểm trên E\", command=calculate_elliptic_curve_points)\n",
    "calculate_button.grid(row=1, column=0, columnspan=2, pady=10)\n",
    "\n",
    "result_text = tk.Text(root, height=10, width=40)\n",
    "result_text.grid(row=2, column=0, columnspan=2, pady=5)\n",
    "\n",
    "# Run the Tkinter event loop\n",
    "root.mainloop()\n"
   ]
  },
  {
   "cell_type": "code",
   "execution_count": null,
   "id": "a758e615",
   "metadata": {},
   "outputs": [],
   "source": []
  }
 ],
 "metadata": {
  "kernelspec": {
   "display_name": "Python 3 (ipykernel)",
   "language": "python",
   "name": "python3"
  },
  "language_info": {
   "codemirror_mode": {
    "name": "ipython",
    "version": 3
   },
   "file_extension": ".py",
   "mimetype": "text/x-python",
   "name": "python",
   "nbconvert_exporter": "python",
   "pygments_lexer": "ipython3",
   "version": "3.11.5"
  }
 },
 "nbformat": 4,
 "nbformat_minor": 5
}
