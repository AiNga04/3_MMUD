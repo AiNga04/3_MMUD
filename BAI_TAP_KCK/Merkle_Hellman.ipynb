{
 "cells": [
  {
   "cell_type": "code",
   "execution_count": 2,
   "id": "952dee04",
   "metadata": {},
   "outputs": [
    {
     "name": "stdout",
     "output_type": "stream",
     "text": [
      "Nhập giá trị target_sum: 53\n",
      "Nhập dãy số nguyên superincreasing, cách nhau bởi dấu cách: 17 38 73 11 4 1\n",
      "4 11 38 \n"
     ]
    }
   ],
   "source": [
    "import tkinter as tk\n",
    "from tkinter import messagebox\n",
    "\n",
    "def find_subset_sum(superincreasing_sequence, target_sum):\n",
    "    n = len(superincreasing_sequence)\n",
    "    subset = [0] * n\n",
    "    for i in range(n - 1, -1, -1):\n",
    "        if target_sum >= superincreasing_sequence[i]:\n",
    "            subset[i] = 1\n",
    "            target_sum -= superincreasing_sequence[i]\n",
    "        elif target_sum == 0:\n",
    "            break\n",
    "    if target_sum != 0:\n",
    "        return None\n",
    "    return subset\n",
    "\n",
    "def calculate_subset():\n",
    "    try:\n",
    "        target_sum = int(entry_target_sum.get())\n",
    "        superincreasing_sequence = list(map(int, entry_sequence.get().split()))\n",
    "        superincreasing_sequence.sort()  # Sắp xếp dãy số nguyên superincreasing\n",
    "        subset = find_subset_sum(superincreasing_sequence, target_sum)\n",
    "        if subset:\n",
    "            result_label.config(text=\"Subset: \" + \", \".join(str(superincreasing_sequence[i]) for i, num in enumerate(subset) if num))\n",
    "        else:\n",
    "            result_label.config(text=\"Không tìm thấy subset có tổng bằng \" + str(target_sum))\n",
    "    except ValueError:\n",
    "        messagebox.showerror(\"Error\", \"Vui lòng nhập giá trị số hợp lệ.\")\n",
    "\n",
    "# Create main window\n",
    "root = tk.Tk()\n",
    "root.title(\"Subset Finder\")\n",
    "\n",
    "# Create and place labels, entries, and button\n",
    "label_target_sum = tk.Label(root, text=\"Nhập giá trị target_sum:\")\n",
    "label_target_sum.grid(row=0, column=0, padx=10, pady=5)\n",
    "entry_target_sum = tk.Entry(root)\n",
    "entry_target_sum.grid(row=0, column=1, padx=10, pady=5)\n",
    "\n",
    "label_sequence = tk.Label(root, text=\"Nhập dãy số nguyên superincreasing, cách nhau bởi dấu cách:\")\n",
    "label_sequence.grid(row=1, column=0, padx=10, pady=5)\n",
    "entry_sequence = tk.Entry(root)\n",
    "entry_sequence.grid(row=1, column=1, padx=10, pady=5)\n",
    "\n",
    "calculate_button = tk.Button(root, text=\"Tìm Subset\", command=calculate_subset)\n",
    "calculate_button.grid(row=2, column=0, columnspan=2, pady=10)\n",
    "\n",
    "result_label = tk.Label(root, text=\"\")\n",
    "result_label.grid(row=3, column=0, columnspan=2, pady=5)\n",
    "\n",
    "# Run the Tkinter event loop\n",
    "root.mainloop()\n"
   ]
  },
  {
   "cell_type": "code",
   "execution_count": null,
   "id": "e2496df9",
   "metadata": {},
   "outputs": [],
   "source": []
  },
  {
   "cell_type": "code",
   "execution_count": null,
   "id": "b0d17241",
   "metadata": {},
   "outputs": [],
   "source": []
  }
 ],
 "metadata": {
  "kernelspec": {
   "display_name": "Python 3 (ipykernel)",
   "language": "python",
   "name": "python3"
  },
  "language_info": {
   "codemirror_mode": {
    "name": "ipython",
    "version": 3
   },
   "file_extension": ".py",
   "mimetype": "text/x-python",
   "name": "python",
   "nbconvert_exporter": "python",
   "pygments_lexer": "ipython3",
   "version": "3.11.5"
  }
 },
 "nbformat": 4,
 "nbformat_minor": 5
}
