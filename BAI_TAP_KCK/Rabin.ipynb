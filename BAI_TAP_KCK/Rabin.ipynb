{
 "cells": [
  {
   "cell_type": "code",
   "execution_count": 5,
   "id": "0404b66a",
   "metadata": {},
   "outputs": [
    {
     "name": "stdout",
     "output_type": "stream",
     "text": [
      "p = 19\n",
      "q = 23\n",
      "x = 329\n",
      "Encrypted Rabin message: 302\n",
      "Decrypted Rabin message: 329\n"
     ]
    }
   ],
   "source": [
    "import tkinter as tk\n",
    "from tkinter import messagebox\n",
    "\n",
    "def calculate_rabin():\n",
    "    try:\n",
    "        p = int(entry_p.get())\n",
    "        q = int(entry_q.get())\n",
    "        x = int(entry_x.get())\n",
    "\n",
    "        n = p * q\n",
    "        ciphertext = encrypt(x, n)\n",
    "        decrypted_message = decrypt(ciphertext, p, q)\n",
    "\n",
    "        result_label.config(text=f\"Encrypted Rabin message: {ciphertext[0]}\\nDecrypted Rabin message: {decrypted_message}\")\n",
    "    except ValueError:\n",
    "        messagebox.showerror(\"Error\", \"Please enter valid integer values for p, q, and x.\")\n",
    "\n",
    "def mod_inverse(a, m):\n",
    "    a = a % m\n",
    "    for x in range(1, m):\n",
    "        if (a * x) % m == 1:\n",
    "            return x\n",
    "    return 1\n",
    "\n",
    "def encrypt(message, n):\n",
    "    ciphertext = [(message ** 2) % n]\n",
    "    return ciphertext\n",
    "\n",
    "def decrypt(ciphertext, p, q):\n",
    "    n = p * q\n",
    "    m1 = pow(ciphertext[0], (p + 1) // 4, p)\n",
    "    m2 = pow(ciphertext[0], (q + 1) // 4, q)\n",
    "    y1 = (m1 * q * mod_inverse(q, p)) % n\n",
    "    y2 = (m2 * p * mod_inverse(p, q)) % n\n",
    "    r1 = (y1 + y2) % n\n",
    "    r2 = (y1 - y2 + n) % n\n",
    "    r3 = (-y1 + y2 + n) % n\n",
    "    r4 = (-y1 - y2 + 2 * n) % n\n",
    "\n",
    "    decrypted_message = max(r1, r2, r3, r4)\n",
    "    return decrypted_message\n",
    "\n",
    "# Create main window\n",
    "root = tk.Tk()\n",
    "root.title(\"Rabin Encryption and Decryption\")\n",
    "\n",
    "# Create and place labels, entries, and button\n",
    "label_p = tk.Label(root, text=\"Enter p:\")\n",
    "label_p.grid(row=0, column=0, padx=10, pady=5)\n",
    "entry_p = tk.Entry(root)\n",
    "entry_p.grid(row=0, column=1, padx=10, pady=5)\n",
    "\n",
    "label_q = tk.Label(root, text=\"Enter q:\")\n",
    "label_q.grid(row=1, column=0, padx=10, pady=5)\n",
    "entry_q = tk.Entry(root)\n",
    "entry_q.grid(row=1, column=1, padx=10, pady=5)\n",
    "\n",
    "label_x = tk.Label(root, text=\"Enter x:\")\n",
    "label_x.grid(row=2, column=0, padx=10, pady=5)\n",
    "entry_x = tk.Entry(root)\n",
    "entry_x.grid(row=2, column=1, padx=10, pady=5)\n",
    "\n",
    "calculate_button = tk.Button(root, text=\"Calculate\", command=calculate_rabin)\n",
    "calculate_button.grid(row=3, column=0, columnspan=2, pady=10)\n",
    "\n",
    "result_label = tk.Label(root, text=\"\")\n",
    "result_label.grid(row=4, column=0, columnspan=2, pady=5)\n",
    "\n",
    "# Run the Tkinter event loop\n",
    "root.mainloop()\n"
   ]
  },
  {
   "cell_type": "code",
   "execution_count": null,
   "id": "5c348ae1",
   "metadata": {},
   "outputs": [],
   "source": []
  }
 ],
 "metadata": {
  "kernelspec": {
   "display_name": "Python 3 (ipykernel)",
   "language": "python",
   "name": "python3"
  },
  "language_info": {
   "codemirror_mode": {
    "name": "ipython",
    "version": 3
   },
   "file_extension": ".py",
   "mimetype": "text/x-python",
   "name": "python",
   "nbconvert_exporter": "python",
   "pygments_lexer": "ipython3",
   "version": "3.11.5"
  }
 },
 "nbformat": 4,
 "nbformat_minor": 5
}
